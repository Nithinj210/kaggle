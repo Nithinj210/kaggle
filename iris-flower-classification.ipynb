{
 "cells": [
  {
   "cell_type": "markdown",
   "id": "be1c3927",
   "metadata": {
    "_cell_guid": "b1076dfc-b9ad-4769-8c92-a6c4dae69d19",
    "_uuid": "8f2839f25d086af736a60e9eeb907d3b93b6e0e5",
    "papermill": {
     "duration": 0.015963,
     "end_time": "2023-09-09T12:49:37.089293",
     "exception": false,
     "start_time": "2023-09-09T12:49:37.073330",
     "status": "completed"
    },
    "tags": []
   },
   "source": [
    "# Iris Flower Classification Dataset"
   ]
  },
  {
   "cell_type": "markdown",
   "id": "84dc1787",
   "metadata": {
    "papermill": {
     "duration": 0.01454,
     "end_time": "2023-09-09T12:49:37.119312",
     "exception": false,
     "start_time": "2023-09-09T12:49:37.104772",
     "status": "completed"
    },
    "tags": []
   },
   "source": [
    "### The Iris flower classification dataset comprises 150 samples of Iris flowers, categorized into three species:\n",
    "\n",
    "1. Iris setosa\n",
    "2. Iris versicolor\n",
    "3. Iris virginica\n",
    "\n",
    "\n",
    "### The data set contains 3 classes of 50 instances each, where each class refers to a type of iris plant.One class is linearly separable from the other 2; the latter are NOT linearly separable from each other.\n",
    "\n",
    "Attribute Information:\n",
    "1. Sepal length in cm\n",
    "2. sepal width in cm\n",
    "3. petal length in cm\n",
    "4. petal width in cm\n",
    "5. class\n",
    "\n",
    "### The dataset is widely used as a benchmark in machine learning for supervised classification tasks aiming to accurately classify Iris flowers based on their measurements."
   ]
  },
  {
   "cell_type": "markdown",
   "id": "40dda075",
   "metadata": {
    "papermill": {
     "duration": 0.014782,
     "end_time": "2023-09-09T12:49:37.149440",
     "exception": false,
     "start_time": "2023-09-09T12:49:37.134658",
     "status": "completed"
    },
    "tags": []
   },
   "source": [
    "## Import Required Libraries"
   ]
  },
  {
   "cell_type": "code",
   "execution_count": 1,
   "id": "ac265a63",
   "metadata": {
    "execution": {
     "iopub.execute_input": "2023-09-09T12:49:37.180971Z",
     "iopub.status.busy": "2023-09-09T12:49:37.180237Z",
     "iopub.status.idle": "2023-09-09T12:49:39.427497Z",
     "shell.execute_reply": "2023-09-09T12:49:39.426023Z"
    },
    "papermill": {
     "duration": 2.26737,
     "end_time": "2023-09-09T12:49:39.431514",
     "exception": false,
     "start_time": "2023-09-09T12:49:37.164144",
     "status": "completed"
    },
    "tags": []
   },
   "outputs": [],
   "source": [
    "import pandas as pd\n",
    "import numpy as np\n",
    "import os\n",
    "import matplotlib.pyplot as plt\n",
    "import seaborn as sns\n",
    "import warnings\n",
    "warnings.filterwarnings('ignore')"
   ]
  },
  {
   "cell_type": "markdown",
   "id": "a17bde43",
   "metadata": {
    "papermill": {
     "duration": 0.016071,
     "end_time": "2023-09-09T12:49:39.468476",
     "exception": false,
     "start_time": "2023-09-09T12:49:39.452405",
     "status": "completed"
    },
    "tags": []
   },
   "source": [
    "## Load the dataset"
   ]
  },
  {
   "cell_type": "code",
   "execution_count": 2,
   "id": "ec2aaace",
   "metadata": {
    "execution": {
     "iopub.execute_input": "2023-09-09T12:49:39.502103Z",
     "iopub.status.busy": "2023-09-09T12:49:39.500799Z",
     "iopub.status.idle": "2023-09-09T12:49:39.563564Z",
     "shell.execute_reply": "2023-09-09T12:49:39.562440Z"
    },
    "papermill": {
     "duration": 0.082989,
     "end_time": "2023-09-09T12:49:39.566883",
     "exception": false,
     "start_time": "2023-09-09T12:49:39.483894",
     "status": "completed"
    },
    "tags": []
   },
   "outputs": [
    {
     "data": {
      "text/html": [
       "<div>\n",
       "<style scoped>\n",
       "    .dataframe tbody tr th:only-of-type {\n",
       "        vertical-align: middle;\n",
       "    }\n",
       "\n",
       "    .dataframe tbody tr th {\n",
       "        vertical-align: top;\n",
       "    }\n",
       "\n",
       "    .dataframe thead th {\n",
       "        text-align: right;\n",
       "    }\n",
       "</style>\n",
       "<table border=\"1\" class=\"dataframe\">\n",
       "  <thead>\n",
       "    <tr style=\"text-align: right;\">\n",
       "      <th></th>\n",
       "      <th>Id</th>\n",
       "      <th>SepalLengthCm</th>\n",
       "      <th>SepalWidthCm</th>\n",
       "      <th>PetalLengthCm</th>\n",
       "      <th>PetalWidthCm</th>\n",
       "      <th>Species</th>\n",
       "    </tr>\n",
       "  </thead>\n",
       "  <tbody>\n",
       "    <tr>\n",
       "      <th>0</th>\n",
       "      <td>1</td>\n",
       "      <td>5.1</td>\n",
       "      <td>3.5</td>\n",
       "      <td>1.4</td>\n",
       "      <td>0.2</td>\n",
       "      <td>Iris-setosa</td>\n",
       "    </tr>\n",
       "    <tr>\n",
       "      <th>1</th>\n",
       "      <td>2</td>\n",
       "      <td>4.9</td>\n",
       "      <td>3.0</td>\n",
       "      <td>1.4</td>\n",
       "      <td>0.2</td>\n",
       "      <td>Iris-setosa</td>\n",
       "    </tr>\n",
       "    <tr>\n",
       "      <th>2</th>\n",
       "      <td>3</td>\n",
       "      <td>4.7</td>\n",
       "      <td>3.2</td>\n",
       "      <td>1.3</td>\n",
       "      <td>0.2</td>\n",
       "      <td>Iris-setosa</td>\n",
       "    </tr>\n",
       "    <tr>\n",
       "      <th>3</th>\n",
       "      <td>4</td>\n",
       "      <td>4.6</td>\n",
       "      <td>3.1</td>\n",
       "      <td>1.5</td>\n",
       "      <td>0.2</td>\n",
       "      <td>Iris-setosa</td>\n",
       "    </tr>\n",
       "    <tr>\n",
       "      <th>4</th>\n",
       "      <td>5</td>\n",
       "      <td>5.0</td>\n",
       "      <td>3.6</td>\n",
       "      <td>1.4</td>\n",
       "      <td>0.2</td>\n",
       "      <td>Iris-setosa</td>\n",
       "    </tr>\n",
       "  </tbody>\n",
       "</table>\n",
       "</div>"
      ],
      "text/plain": [
       "   Id  SepalLengthCm  SepalWidthCm  PetalLengthCm  PetalWidthCm      Species\n",
       "0   1            5.1           3.5            1.4           0.2  Iris-setosa\n",
       "1   2            4.9           3.0            1.4           0.2  Iris-setosa\n",
       "2   3            4.7           3.2            1.3           0.2  Iris-setosa\n",
       "3   4            4.6           3.1            1.5           0.2  Iris-setosa\n",
       "4   5            5.0           3.6            1.4           0.2  Iris-setosa"
      ]
     },
     "execution_count": 2,
     "metadata": {},
     "output_type": "execute_result"
    }
   ],
   "source": [
    "df = pd.read_csv('/kaggle/input/iriscsv/Iris.csv')\n",
    "df.head()"
   ]
  },
  {
   "cell_type": "code",
   "execution_count": 3,
   "id": "8d5b9473",
   "metadata": {
    "execution": {
     "iopub.execute_input": "2023-09-09T12:49:39.599298Z",
     "iopub.status.busy": "2023-09-09T12:49:39.598456Z",
     "iopub.status.idle": "2023-09-09T12:49:39.622106Z",
     "shell.execute_reply": "2023-09-09T12:49:39.620953Z"
    },
    "papermill": {
     "duration": 0.04258,
     "end_time": "2023-09-09T12:49:39.624662",
     "exception": false,
     "start_time": "2023-09-09T12:49:39.582082",
     "status": "completed"
    },
    "tags": []
   },
   "outputs": [
    {
     "data": {
      "text/html": [
       "<div>\n",
       "<style scoped>\n",
       "    .dataframe tbody tr th:only-of-type {\n",
       "        vertical-align: middle;\n",
       "    }\n",
       "\n",
       "    .dataframe tbody tr th {\n",
       "        vertical-align: top;\n",
       "    }\n",
       "\n",
       "    .dataframe thead th {\n",
       "        text-align: right;\n",
       "    }\n",
       "</style>\n",
       "<table border=\"1\" class=\"dataframe\">\n",
       "  <thead>\n",
       "    <tr style=\"text-align: right;\">\n",
       "      <th></th>\n",
       "      <th>SepalLengthCm</th>\n",
       "      <th>SepalWidthCm</th>\n",
       "      <th>PetalLengthCm</th>\n",
       "      <th>PetalWidthCm</th>\n",
       "      <th>Species</th>\n",
       "    </tr>\n",
       "  </thead>\n",
       "  <tbody>\n",
       "    <tr>\n",
       "      <th>0</th>\n",
       "      <td>5.1</td>\n",
       "      <td>3.5</td>\n",
       "      <td>1.4</td>\n",
       "      <td>0.2</td>\n",
       "      <td>Iris-setosa</td>\n",
       "    </tr>\n",
       "    <tr>\n",
       "      <th>1</th>\n",
       "      <td>4.9</td>\n",
       "      <td>3.0</td>\n",
       "      <td>1.4</td>\n",
       "      <td>0.2</td>\n",
       "      <td>Iris-setosa</td>\n",
       "    </tr>\n",
       "    <tr>\n",
       "      <th>2</th>\n",
       "      <td>4.7</td>\n",
       "      <td>3.2</td>\n",
       "      <td>1.3</td>\n",
       "      <td>0.2</td>\n",
       "      <td>Iris-setosa</td>\n",
       "    </tr>\n",
       "    <tr>\n",
       "      <th>3</th>\n",
       "      <td>4.6</td>\n",
       "      <td>3.1</td>\n",
       "      <td>1.5</td>\n",
       "      <td>0.2</td>\n",
       "      <td>Iris-setosa</td>\n",
       "    </tr>\n",
       "    <tr>\n",
       "      <th>4</th>\n",
       "      <td>5.0</td>\n",
       "      <td>3.6</td>\n",
       "      <td>1.4</td>\n",
       "      <td>0.2</td>\n",
       "      <td>Iris-setosa</td>\n",
       "    </tr>\n",
       "  </tbody>\n",
       "</table>\n",
       "</div>"
      ],
      "text/plain": [
       "   SepalLengthCm  SepalWidthCm  PetalLengthCm  PetalWidthCm      Species\n",
       "0            5.1           3.5            1.4           0.2  Iris-setosa\n",
       "1            4.9           3.0            1.4           0.2  Iris-setosa\n",
       "2            4.7           3.2            1.3           0.2  Iris-setosa\n",
       "3            4.6           3.1            1.5           0.2  Iris-setosa\n",
       "4            5.0           3.6            1.4           0.2  Iris-setosa"
      ]
     },
     "execution_count": 3,
     "metadata": {},
     "output_type": "execute_result"
    }
   ],
   "source": [
    "# Drop the 'Id' column as it is not required for analysis\n",
    "df = df.drop(columns=[\"Id\"])\n",
    "df.head()"
   ]
  },
  {
   "cell_type": "code",
   "execution_count": 4,
   "id": "f900a991",
   "metadata": {
    "execution": {
     "iopub.execute_input": "2023-09-09T12:49:39.657888Z",
     "iopub.status.busy": "2023-09-09T12:49:39.657385Z",
     "iopub.status.idle": "2023-09-09T12:49:39.677514Z",
     "shell.execute_reply": "2023-09-09T12:49:39.676199Z"
    },
    "papermill": {
     "duration": 0.040072,
     "end_time": "2023-09-09T12:49:39.680132",
     "exception": false,
     "start_time": "2023-09-09T12:49:39.640060",
     "status": "completed"
    },
    "tags": []
   },
   "outputs": [
    {
     "data": {
      "text/html": [
       "<div>\n",
       "<style scoped>\n",
       "    .dataframe tbody tr th:only-of-type {\n",
       "        vertical-align: middle;\n",
       "    }\n",
       "\n",
       "    .dataframe tbody tr th {\n",
       "        vertical-align: top;\n",
       "    }\n",
       "\n",
       "    .dataframe thead th {\n",
       "        text-align: right;\n",
       "    }\n",
       "</style>\n",
       "<table border=\"1\" class=\"dataframe\">\n",
       "  <thead>\n",
       "    <tr style=\"text-align: right;\">\n",
       "      <th></th>\n",
       "      <th>SepalLengthCm</th>\n",
       "      <th>SepalWidthCm</th>\n",
       "      <th>PetalLengthCm</th>\n",
       "      <th>PetalWidthCm</th>\n",
       "      <th>Species</th>\n",
       "    </tr>\n",
       "  </thead>\n",
       "  <tbody>\n",
       "    <tr>\n",
       "      <th>0</th>\n",
       "      <td>5.1</td>\n",
       "      <td>3.5</td>\n",
       "      <td>1.4</td>\n",
       "      <td>0.2</td>\n",
       "      <td>Iris-setosa</td>\n",
       "    </tr>\n",
       "    <tr>\n",
       "      <th>1</th>\n",
       "      <td>4.9</td>\n",
       "      <td>3.0</td>\n",
       "      <td>1.4</td>\n",
       "      <td>0.2</td>\n",
       "      <td>Iris-setosa</td>\n",
       "    </tr>\n",
       "    <tr>\n",
       "      <th>2</th>\n",
       "      <td>4.7</td>\n",
       "      <td>3.2</td>\n",
       "      <td>1.3</td>\n",
       "      <td>0.2</td>\n",
       "      <td>Iris-setosa</td>\n",
       "    </tr>\n",
       "    <tr>\n",
       "      <th>3</th>\n",
       "      <td>4.6</td>\n",
       "      <td>3.1</td>\n",
       "      <td>1.5</td>\n",
       "      <td>0.2</td>\n",
       "      <td>Iris-setosa</td>\n",
       "    </tr>\n",
       "    <tr>\n",
       "      <th>4</th>\n",
       "      <td>5.0</td>\n",
       "      <td>3.6</td>\n",
       "      <td>1.4</td>\n",
       "      <td>0.2</td>\n",
       "      <td>Iris-setosa</td>\n",
       "    </tr>\n",
       "    <tr>\n",
       "      <th>5</th>\n",
       "      <td>5.4</td>\n",
       "      <td>3.9</td>\n",
       "      <td>1.7</td>\n",
       "      <td>0.4</td>\n",
       "      <td>Iris-setosa</td>\n",
       "    </tr>\n",
       "    <tr>\n",
       "      <th>6</th>\n",
       "      <td>4.6</td>\n",
       "      <td>3.4</td>\n",
       "      <td>1.4</td>\n",
       "      <td>0.3</td>\n",
       "      <td>Iris-setosa</td>\n",
       "    </tr>\n",
       "    <tr>\n",
       "      <th>7</th>\n",
       "      <td>5.0</td>\n",
       "      <td>3.4</td>\n",
       "      <td>1.5</td>\n",
       "      <td>0.2</td>\n",
       "      <td>Iris-setosa</td>\n",
       "    </tr>\n",
       "    <tr>\n",
       "      <th>8</th>\n",
       "      <td>4.4</td>\n",
       "      <td>2.9</td>\n",
       "      <td>1.4</td>\n",
       "      <td>0.2</td>\n",
       "      <td>Iris-setosa</td>\n",
       "    </tr>\n",
       "    <tr>\n",
       "      <th>9</th>\n",
       "      <td>4.9</td>\n",
       "      <td>3.1</td>\n",
       "      <td>1.5</td>\n",
       "      <td>0.1</td>\n",
       "      <td>Iris-setosa</td>\n",
       "    </tr>\n",
       "  </tbody>\n",
       "</table>\n",
       "</div>"
      ],
      "text/plain": [
       "   SepalLengthCm  SepalWidthCm  PetalLengthCm  PetalWidthCm      Species\n",
       "0            5.1           3.5            1.4           0.2  Iris-setosa\n",
       "1            4.9           3.0            1.4           0.2  Iris-setosa\n",
       "2            4.7           3.2            1.3           0.2  Iris-setosa\n",
       "3            4.6           3.1            1.5           0.2  Iris-setosa\n",
       "4            5.0           3.6            1.4           0.2  Iris-setosa\n",
       "5            5.4           3.9            1.7           0.4  Iris-setosa\n",
       "6            4.6           3.4            1.4           0.3  Iris-setosa\n",
       "7            5.0           3.4            1.5           0.2  Iris-setosa\n",
       "8            4.4           2.9            1.4           0.2  Iris-setosa\n",
       "9            4.9           3.1            1.5           0.1  Iris-setosa"
      ]
     },
     "execution_count": 4,
     "metadata": {},
     "output_type": "execute_result"
    }
   ],
   "source": [
    "#Display the first 10 rows of the dataframe\n",
    "df.head(10)"
   ]
  },
  {
   "cell_type": "code",
   "execution_count": 5,
   "id": "672aaf1d",
   "metadata": {
    "execution": {
     "iopub.execute_input": "2023-09-09T12:49:39.717792Z",
     "iopub.status.busy": "2023-09-09T12:49:39.717433Z",
     "iopub.status.idle": "2023-09-09T12:49:39.751881Z",
     "shell.execute_reply": "2023-09-09T12:49:39.750741Z"
    },
    "papermill": {
     "duration": 0.054963,
     "end_time": "2023-09-09T12:49:39.755144",
     "exception": false,
     "start_time": "2023-09-09T12:49:39.700181",
     "status": "completed"
    },
    "tags": []
   },
   "outputs": [
    {
     "data": {
      "text/html": [
       "<div>\n",
       "<style scoped>\n",
       "    .dataframe tbody tr th:only-of-type {\n",
       "        vertical-align: middle;\n",
       "    }\n",
       "\n",
       "    .dataframe tbody tr th {\n",
       "        vertical-align: top;\n",
       "    }\n",
       "\n",
       "    .dataframe thead th {\n",
       "        text-align: right;\n",
       "    }\n",
       "</style>\n",
       "<table border=\"1\" class=\"dataframe\">\n",
       "  <thead>\n",
       "    <tr style=\"text-align: right;\">\n",
       "      <th></th>\n",
       "      <th>SepalLengthCm</th>\n",
       "      <th>SepalWidthCm</th>\n",
       "      <th>PetalLengthCm</th>\n",
       "      <th>PetalWidthCm</th>\n",
       "    </tr>\n",
       "  </thead>\n",
       "  <tbody>\n",
       "    <tr>\n",
       "      <th>count</th>\n",
       "      <td>150.000000</td>\n",
       "      <td>150.000000</td>\n",
       "      <td>150.000000</td>\n",
       "      <td>150.000000</td>\n",
       "    </tr>\n",
       "    <tr>\n",
       "      <th>mean</th>\n",
       "      <td>5.843333</td>\n",
       "      <td>3.054000</td>\n",
       "      <td>3.758667</td>\n",
       "      <td>1.198667</td>\n",
       "    </tr>\n",
       "    <tr>\n",
       "      <th>std</th>\n",
       "      <td>0.828066</td>\n",
       "      <td>0.433594</td>\n",
       "      <td>1.764420</td>\n",
       "      <td>0.763161</td>\n",
       "    </tr>\n",
       "    <tr>\n",
       "      <th>min</th>\n",
       "      <td>4.300000</td>\n",
       "      <td>2.000000</td>\n",
       "      <td>1.000000</td>\n",
       "      <td>0.100000</td>\n",
       "    </tr>\n",
       "    <tr>\n",
       "      <th>25%</th>\n",
       "      <td>5.100000</td>\n",
       "      <td>2.800000</td>\n",
       "      <td>1.600000</td>\n",
       "      <td>0.300000</td>\n",
       "    </tr>\n",
       "    <tr>\n",
       "      <th>50%</th>\n",
       "      <td>5.800000</td>\n",
       "      <td>3.000000</td>\n",
       "      <td>4.350000</td>\n",
       "      <td>1.300000</td>\n",
       "    </tr>\n",
       "    <tr>\n",
       "      <th>75%</th>\n",
       "      <td>6.400000</td>\n",
       "      <td>3.300000</td>\n",
       "      <td>5.100000</td>\n",
       "      <td>1.800000</td>\n",
       "    </tr>\n",
       "    <tr>\n",
       "      <th>max</th>\n",
       "      <td>7.900000</td>\n",
       "      <td>4.400000</td>\n",
       "      <td>6.900000</td>\n",
       "      <td>2.500000</td>\n",
       "    </tr>\n",
       "  </tbody>\n",
       "</table>\n",
       "</div>"
      ],
      "text/plain": [
       "       SepalLengthCm  SepalWidthCm  PetalLengthCm  PetalWidthCm\n",
       "count     150.000000    150.000000     150.000000    150.000000\n",
       "mean        5.843333      3.054000       3.758667      1.198667\n",
       "std         0.828066      0.433594       1.764420      0.763161\n",
       "min         4.300000      2.000000       1.000000      0.100000\n",
       "25%         5.100000      2.800000       1.600000      0.300000\n",
       "50%         5.800000      3.000000       4.350000      1.300000\n",
       "75%         6.400000      3.300000       5.100000      1.800000\n",
       "max         7.900000      4.400000       6.900000      2.500000"
      ]
     },
     "execution_count": 5,
     "metadata": {},
     "output_type": "execute_result"
    }
   ],
   "source": [
    "# Display basic statistics about the data\n",
    "df.describe()"
   ]
  },
  {
   "cell_type": "code",
   "execution_count": 6,
   "id": "78563977",
   "metadata": {
    "execution": {
     "iopub.execute_input": "2023-09-09T12:49:39.792039Z",
     "iopub.status.busy": "2023-09-09T12:49:39.791233Z",
     "iopub.status.idle": "2023-09-09T12:49:39.816662Z",
     "shell.execute_reply": "2023-09-09T12:49:39.815482Z"
    },
    "papermill": {
     "duration": 0.046045,
     "end_time": "2023-09-09T12:49:39.819639",
     "exception": false,
     "start_time": "2023-09-09T12:49:39.773594",
     "status": "completed"
    },
    "tags": []
   },
   "outputs": [
    {
     "name": "stdout",
     "output_type": "stream",
     "text": [
      "<class 'pandas.core.frame.DataFrame'>\n",
      "RangeIndex: 150 entries, 0 to 149\n",
      "Data columns (total 5 columns):\n",
      " #   Column         Non-Null Count  Dtype  \n",
      "---  ------         --------------  -----  \n",
      " 0   SepalLengthCm  150 non-null    float64\n",
      " 1   SepalWidthCm   150 non-null    float64\n",
      " 2   PetalLengthCm  150 non-null    float64\n",
      " 3   PetalWidthCm   150 non-null    float64\n",
      " 4   Species        150 non-null    object \n",
      "dtypes: float64(4), object(1)\n",
      "memory usage: 6.0+ KB\n"
     ]
    }
   ],
   "source": [
    "# Display information about the datatype of each column and null values\n",
    "df.info()"
   ]
  },
  {
   "cell_type": "code",
   "execution_count": 7,
   "id": "124e4e20",
   "metadata": {
    "execution": {
     "iopub.execute_input": "2023-09-09T12:49:39.853421Z",
     "iopub.status.busy": "2023-09-09T12:49:39.852983Z",
     "iopub.status.idle": "2023-09-09T12:49:39.861709Z",
     "shell.execute_reply": "2023-09-09T12:49:39.860647Z"
    },
    "papermill": {
     "duration": 0.028726,
     "end_time": "2023-09-09T12:49:39.864295",
     "exception": false,
     "start_time": "2023-09-09T12:49:39.835569",
     "status": "completed"
    },
    "tags": []
   },
   "outputs": [
    {
     "data": {
      "text/plain": [
       "Species\n",
       "Iris-setosa        50\n",
       "Iris-versicolor    50\n",
       "Iris-virginica     50\n",
       "Name: count, dtype: int64"
      ]
     },
     "execution_count": 7,
     "metadata": {},
     "output_type": "execute_result"
    }
   ],
   "source": [
    "# Display the number of samples for each class\n",
    "df['Species'].value_counts()"
   ]
  },
  {
   "cell_type": "markdown",
   "id": "fabac11d",
   "metadata": {
    "papermill": {
     "duration": 0.015626,
     "end_time": "2023-09-09T12:49:39.896308",
     "exception": false,
     "start_time": "2023-09-09T12:49:39.880682",
     "status": "completed"
    },
    "tags": []
   },
   "source": [
    "## Preprocessing the Dataset"
   ]
  },
  {
   "cell_type": "code",
   "execution_count": 8,
   "id": "7285e16a",
   "metadata": {
    "execution": {
     "iopub.execute_input": "2023-09-09T12:49:39.930828Z",
     "iopub.status.busy": "2023-09-09T12:49:39.929753Z",
     "iopub.status.idle": "2023-09-09T12:49:40.136875Z",
     "shell.execute_reply": "2023-09-09T12:49:40.135723Z"
    },
    "papermill": {
     "duration": 0.226985,
     "end_time": "2023-09-09T12:49:40.139391",
     "exception": false,
     "start_time": "2023-09-09T12:49:39.912406",
     "status": "completed"
    },
    "tags": []
   },
   "outputs": [
    {
     "data": {
      "text/plain": [
       "0      0\n",
       "1      0\n",
       "2      0\n",
       "3      0\n",
       "4      0\n",
       "      ..\n",
       "145    2\n",
       "146    2\n",
       "147    2\n",
       "148    2\n",
       "149    2\n",
       "Name: Species, Length: 150, dtype: int64"
      ]
     },
     "execution_count": 8,
     "metadata": {},
     "output_type": "execute_result"
    }
   ],
   "source": [
    "#Label encoding to convert class labels into numeric form\n",
    "from sklearn.preprocessing import LabelEncoder\n",
    "le = LabelEncoder()\n",
    "df['Species'] = le.fit_transform(df['Species'])\n",
    "df['Species']"
   ]
  },
  {
   "cell_type": "code",
   "execution_count": 9,
   "id": "cfa0d19a",
   "metadata": {
    "execution": {
     "iopub.execute_input": "2023-09-09T12:49:40.173940Z",
     "iopub.status.busy": "2023-09-09T12:49:40.173105Z",
     "iopub.status.idle": "2023-09-09T12:49:40.192034Z",
     "shell.execute_reply": "2023-09-09T12:49:40.190688Z"
    },
    "papermill": {
     "duration": 0.039106,
     "end_time": "2023-09-09T12:49:40.194712",
     "exception": false,
     "start_time": "2023-09-09T12:49:40.155606",
     "status": "completed"
    },
    "tags": []
   },
   "outputs": [
    {
     "data": {
      "text/html": [
       "<div>\n",
       "<style scoped>\n",
       "    .dataframe tbody tr th:only-of-type {\n",
       "        vertical-align: middle;\n",
       "    }\n",
       "\n",
       "    .dataframe tbody tr th {\n",
       "        vertical-align: top;\n",
       "    }\n",
       "\n",
       "    .dataframe thead th {\n",
       "        text-align: right;\n",
       "    }\n",
       "</style>\n",
       "<table border=\"1\" class=\"dataframe\">\n",
       "  <thead>\n",
       "    <tr style=\"text-align: right;\">\n",
       "      <th></th>\n",
       "      <th>SepalLengthCm</th>\n",
       "      <th>SepalWidthCm</th>\n",
       "      <th>PetalLengthCm</th>\n",
       "      <th>PetalWidthCm</th>\n",
       "      <th>Species</th>\n",
       "    </tr>\n",
       "  </thead>\n",
       "  <tbody>\n",
       "    <tr>\n",
       "      <th>0</th>\n",
       "      <td>5.1</td>\n",
       "      <td>3.5</td>\n",
       "      <td>1.4</td>\n",
       "      <td>0.2</td>\n",
       "      <td>0</td>\n",
       "    </tr>\n",
       "    <tr>\n",
       "      <th>1</th>\n",
       "      <td>4.9</td>\n",
       "      <td>3.0</td>\n",
       "      <td>1.4</td>\n",
       "      <td>0.2</td>\n",
       "      <td>0</td>\n",
       "    </tr>\n",
       "    <tr>\n",
       "      <th>2</th>\n",
       "      <td>4.7</td>\n",
       "      <td>3.2</td>\n",
       "      <td>1.3</td>\n",
       "      <td>0.2</td>\n",
       "      <td>0</td>\n",
       "    </tr>\n",
       "    <tr>\n",
       "      <th>3</th>\n",
       "      <td>4.6</td>\n",
       "      <td>3.1</td>\n",
       "      <td>1.5</td>\n",
       "      <td>0.2</td>\n",
       "      <td>0</td>\n",
       "    </tr>\n",
       "    <tr>\n",
       "      <th>4</th>\n",
       "      <td>5.0</td>\n",
       "      <td>3.6</td>\n",
       "      <td>1.4</td>\n",
       "      <td>0.2</td>\n",
       "      <td>0</td>\n",
       "    </tr>\n",
       "    <tr>\n",
       "      <th>...</th>\n",
       "      <td>...</td>\n",
       "      <td>...</td>\n",
       "      <td>...</td>\n",
       "      <td>...</td>\n",
       "      <td>...</td>\n",
       "    </tr>\n",
       "    <tr>\n",
       "      <th>145</th>\n",
       "      <td>6.7</td>\n",
       "      <td>3.0</td>\n",
       "      <td>5.2</td>\n",
       "      <td>2.3</td>\n",
       "      <td>2</td>\n",
       "    </tr>\n",
       "    <tr>\n",
       "      <th>146</th>\n",
       "      <td>6.3</td>\n",
       "      <td>2.5</td>\n",
       "      <td>5.0</td>\n",
       "      <td>1.9</td>\n",
       "      <td>2</td>\n",
       "    </tr>\n",
       "    <tr>\n",
       "      <th>147</th>\n",
       "      <td>6.5</td>\n",
       "      <td>3.0</td>\n",
       "      <td>5.2</td>\n",
       "      <td>2.0</td>\n",
       "      <td>2</td>\n",
       "    </tr>\n",
       "    <tr>\n",
       "      <th>148</th>\n",
       "      <td>6.2</td>\n",
       "      <td>3.4</td>\n",
       "      <td>5.4</td>\n",
       "      <td>2.3</td>\n",
       "      <td>2</td>\n",
       "    </tr>\n",
       "    <tr>\n",
       "      <th>149</th>\n",
       "      <td>5.9</td>\n",
       "      <td>3.0</td>\n",
       "      <td>5.1</td>\n",
       "      <td>1.8</td>\n",
       "      <td>2</td>\n",
       "    </tr>\n",
       "  </tbody>\n",
       "</table>\n",
       "<p>150 rows × 5 columns</p>\n",
       "</div>"
      ],
      "text/plain": [
       "     SepalLengthCm  SepalWidthCm  PetalLengthCm  PetalWidthCm  Species\n",
       "0              5.1           3.5            1.4           0.2        0\n",
       "1              4.9           3.0            1.4           0.2        0\n",
       "2              4.7           3.2            1.3           0.2        0\n",
       "3              4.6           3.1            1.5           0.2        0\n",
       "4              5.0           3.6            1.4           0.2        0\n",
       "..             ...           ...            ...           ...      ...\n",
       "145            6.7           3.0            5.2           2.3        2\n",
       "146            6.3           2.5            5.0           1.9        2\n",
       "147            6.5           3.0            5.2           2.0        2\n",
       "148            6.2           3.4            5.4           2.3        2\n",
       "149            5.9           3.0            5.1           1.8        2\n",
       "\n",
       "[150 rows x 5 columns]"
      ]
     },
     "execution_count": 9,
     "metadata": {},
     "output_type": "execute_result"
    }
   ],
   "source": [
    "df"
   ]
  },
  {
   "cell_type": "code",
   "execution_count": 10,
   "id": "2b6f67a6",
   "metadata": {
    "execution": {
     "iopub.execute_input": "2023-09-09T12:49:40.230457Z",
     "iopub.status.busy": "2023-09-09T12:49:40.229661Z",
     "iopub.status.idle": "2023-09-09T12:49:40.238487Z",
     "shell.execute_reply": "2023-09-09T12:49:40.237431Z"
    },
    "papermill": {
     "duration": 0.029652,
     "end_time": "2023-09-09T12:49:40.241410",
     "exception": false,
     "start_time": "2023-09-09T12:49:40.211758",
     "status": "completed"
    },
    "tags": []
   },
   "outputs": [
    {
     "data": {
      "text/plain": [
       "SepalLengthCm    0\n",
       "SepalWidthCm     0\n",
       "PetalLengthCm    0\n",
       "PetalWidthCm     0\n",
       "Species          0\n",
       "dtype: int64"
      ]
     },
     "execution_count": 10,
     "metadata": {},
     "output_type": "execute_result"
    }
   ],
   "source": [
    "# check for null values\n",
    "df.isnull().sum()"
   ]
  },
  {
   "cell_type": "markdown",
   "id": "8b352b27",
   "metadata": {
    "papermill": {
     "duration": 0.01611,
     "end_time": "2023-09-09T12:49:40.274298",
     "exception": false,
     "start_time": "2023-09-09T12:49:40.258188",
     "status": "completed"
    },
    "tags": []
   },
   "source": [
    "### Exploratory Data Analysis (EDA)"
   ]
  },
  {
   "cell_type": "code",
   "execution_count": 11,
   "id": "698945c8",
   "metadata": {
    "execution": {
     "iopub.execute_input": "2023-09-09T12:49:40.309705Z",
     "iopub.status.busy": "2023-09-09T12:49:40.308907Z",
     "iopub.status.idle": "2023-09-09T12:49:40.672269Z",
     "shell.execute_reply": "2023-09-09T12:49:40.671030Z"
    },
    "papermill": {
     "duration": 0.384133,
     "end_time": "2023-09-09T12:49:40.675104",
     "exception": false,
     "start_time": "2023-09-09T12:49:40.290971",
     "status": "completed"
    },
    "tags": []
   },
   "outputs": [
    {
     "data": {
      "text/plain": [
       "<Axes: >"
      ]
     },
     "execution_count": 11,
     "metadata": {},
     "output_type": "execute_result"
    },
    {
     "data": {
      "image/png": "[encoded data removed]",
      "text/plain": [
       "<Figure size 640x480 with 1 Axes>"
      ]
     },
     "metadata": {},
     "output_type": "display_data"
    }
   ],
   "source": [
    "# Plot histograms of each feature\n",
    "df['SepalLengthCm'].hist(color='red')"
   ]
  },
  {
   "cell_type": "code",
   "execution_count": 12,
   "id": "3a147610",
   "metadata": {
    "execution": {
     "iopub.execute_input": "2023-09-09T12:49:40.775222Z",
     "iopub.status.busy": "2023-09-09T12:49:40.774814Z",
     "iopub.status.idle": "2023-09-09T12:49:41.081452Z",
     "shell.execute_reply": "2023-09-09T12:49:41.080156Z"
    },
    "papermill": {
     "duration": 0.329052,
     "end_time": "2023-09-09T12:49:41.084064",
     "exception": false,
     "start_time": "2023-09-09T12:49:40.755012",
     "status": "completed"
    },
    "tags": []
   },
   "outputs": [
    {
     "data": {
      "text/plain": [
       "<Axes: >"
      ]
     },
     "execution_count": 12,
     "metadata": {},
     "output_type": "execute_result"
    },
    {
     "data": {
      "image/png": "[encoded data removed]",
      "text/plain": [
       "<Figure size 640x480 with 1 Axes>"
      ]
     },
     "metadata": {},
     "output_type": "display_data"
    }
   ],
   "source": [
    "df['SepalWidthCm'].hist(color='red')"
   ]
  },
  {
   "cell_type": "code",
   "execution_count": 13,
   "id": "a4995a34",
   "metadata": {
    "execution": {
     "iopub.execute_input": "2023-09-09T12:49:41.122868Z",
     "iopub.status.busy": "2023-09-09T12:49:41.122073Z",
     "iopub.status.idle": "2023-09-09T12:49:41.441347Z",
     "shell.execute_reply": "2023-09-09T12:49:41.439876Z"
    },
    "papermill": {
     "duration": 0.341359,
     "end_time": "2023-09-09T12:49:41.444169",
     "exception": false,
     "start_time": "2023-09-09T12:49:41.102810",
     "status": "completed"
    },
    "tags": []
   },
   "outputs": [
    {
     "data": {
      "text/plain": [
       "<Axes: >"
      ]
     },
     "execution_count": 13,
     "metadata": {},
     "output_type": "execute_result"
    },
    {
     "data": {
      "image/png": "[encoded data removed]",
      "text/plain": [
       "<Figure size 640x480 with 1 Axes>"
      ]
     },
     "metadata": {},
     "output_type": "display_data"
    }
   ],
   "source": [
    "df['PetalLengthCm'].hist(color='red')"
   ]
  },
  {
   "cell_type": "code",
   "execution_count": 14,
   "id": "3e1587e0",
   "metadata": {
    "execution": {
     "iopub.execute_input": "2023-09-09T12:49:41.483125Z",
     "iopub.status.busy": "2023-09-09T12:49:41.482657Z",
     "iopub.status.idle": "2023-09-09T12:49:41.806623Z",
     "shell.execute_reply": "2023-09-09T12:49:41.805664Z"
    },
    "papermill": {
     "duration": 0.346691,
     "end_time": "2023-09-09T12:49:41.809471",
     "exception": false,
     "start_time": "2023-09-09T12:49:41.462780",
     "status": "completed"
    },
    "tags": []
   },
   "outputs": [
    {
     "data": {
      "text/plain": [
       "<Axes: >"
      ]
     },
     "execution_count": 14,
     "metadata": {},
     "output_type": "execute_result"
    },
    {
     "data": {
      "image/png": "[encoded data removed]",
      "text/plain": [
       "<Figure size 640x480 with 1 Axes>"
      ]
     },
     "metadata": {},
     "output_type": "display_data"
    }
   ],
   "source": [
    "df['PetalWidthCm'].hist(color='red')"
   ]
  },
  {
   "cell_type": "code",
   "execution_count": 15,
   "id": "3f18c9cc",
   "metadata": {
    "execution": {
     "iopub.execute_input": "2023-09-09T12:49:41.849391Z",
     "iopub.status.busy": "2023-09-09T12:49:41.848594Z",
     "iopub.status.idle": "2023-09-09T12:49:42.248769Z",
     "shell.execute_reply": "2023-09-09T12:49:42.247471Z"
    },
    "papermill": {
     "duration": 0.42292,
     "end_time": "2023-09-09T12:49:42.251402",
     "exception": false,
     "start_time": "2023-09-09T12:49:41.828482",
     "status": "completed"
    },
    "tags": []
   },
   "outputs": [
    {
     "data": {
      "text/plain": [
       "<Axes: >"
      ]
     },
     "execution_count": 15,
     "metadata": {},
     "output_type": "execute_result"
    },
    {
     "data": {
      "image/png": "[encoded data removed]",
      "text/plain": [
       "<Figure size 640x480 with 1 Axes>"
      ]
     },
     "metadata": {},
     "output_type": "display_data"
    }
   ],
   "source": [
    "#Plotting the histogram of all features toghether\n",
    "df['SepalLengthCm'].hist()\n",
    "df['SepalWidthCm'].hist()\n",
    "df['PetalLengthCm'].hist()\n",
    "df['PetalWidthCm'].hist()"
   ]
  },
  {
   "cell_type": "code",
   "execution_count": 16,
   "id": "4ee1dd9e",
   "metadata": {
    "execution": {
     "iopub.execute_input": "2023-09-09T12:49:42.292222Z",
     "iopub.status.busy": "2023-09-09T12:49:42.291474Z",
     "iopub.status.idle": "2023-09-09T12:49:42.296186Z",
     "shell.execute_reply": "2023-09-09T12:49:42.295216Z"
    },
    "papermill": {
     "duration": 0.027886,
     "end_time": "2023-09-09T12:49:42.298557",
     "exception": false,
     "start_time": "2023-09-09T12:49:42.270671",
     "status": "completed"
    },
    "tags": []
   },
   "outputs": [],
   "source": [
    "# Plot scatterplots to visualize relationships between features\n",
    "colors = ['red', 'green', 'blue']\n",
    "species = [0, 1, 2]"
   ]
  },
  {
   "cell_type": "code",
   "execution_count": 17,
   "id": "0c08636f",
   "metadata": {
    "execution": {
     "iopub.execute_input": "2023-09-09T12:49:42.340271Z",
     "iopub.status.busy": "2023-09-09T12:49:42.339460Z",
     "iopub.status.idle": "2023-09-09T12:49:42.804712Z",
     "shell.execute_reply": "2023-09-09T12:49:42.803353Z"
    },
    "papermill": {
     "duration": 0.493272,
     "end_time": "2023-09-09T12:49:42.811344",
     "exception": false,
     "start_time": "2023-09-09T12:49:42.318072",
     "status": "completed"
    },
    "tags": []
   },
   "outputs": [
    {
     "data": {
      "text/plain": [
       "<matplotlib.legend.Legend at 0x7de6806d3f70>"
      ]
     },
     "execution_count": 17,
     "metadata": {},
     "output_type": "execute_result"
    },
    {
     "data": {
      "image/png": "[encoded data removed]",
      "text/plain": [
       "<Figure size 640x480 with 1 Axes>"
      ]
     },
     "metadata": {},
     "output_type": "display_data"
    }
   ],
   "source": [
    "# Scatter plot for Sepal Length vs Sepal Width\n",
    "for i in range(3):\n",
    "    x = df[df['Species'] == species[i]]\n",
    "    plt.scatter(x['SepalLengthCm'], x['SepalWidthCm'], c=colors[i], label=species[i])\n",
    "plt.xlabel(\"Sepal Length\")\n",
    "plt.ylabel(\"Sepal Width\")\n",
    "plt.legend()"
   ]
  },
  {
   "cell_type": "code",
   "execution_count": 18,
   "id": "f8b94de3",
   "metadata": {
    "execution": {
     "iopub.execute_input": "2023-09-09T12:49:42.862378Z",
     "iopub.status.busy": "2023-09-09T12:49:42.861380Z",
     "iopub.status.idle": "2023-09-09T12:49:43.263216Z",
     "shell.execute_reply": "2023-09-09T12:49:43.262320Z"
    },
    "papermill": {
     "duration": 0.431988,
     "end_time": "2023-09-09T12:49:43.265644",
     "exception": false,
     "start_time": "2023-09-09T12:49:42.833656",
     "status": "completed"
    },
    "tags": []
   },
   "outputs": [
    {
     "data": {
      "text/plain": [
       "<matplotlib.legend.Legend at 0x7de68086fdf0>"
      ]
     },
     "execution_count": 18,
     "metadata": {},
     "output_type": "execute_result"
    },
    {
     "data": {
      "image/png": "[encoded data removed]",
      "text/plain": [
       "<Figure size 640x480 with 1 Axes>"
      ]
     },
     "metadata": {},
     "output_type": "display_data"
    }
   ],
   "source": [
    "# Scatter plot for Petal Length vs Petal Width \n",
    "for i in range(3):\n",
    "    x = df[df['Species'] == species[i]]\n",
    "    plt.scatter(x['PetalLengthCm'], x['PetalWidthCm'], c = colors[i], label=species[i])\n",
    "plt.xlabel(\"Petal Length\")\n",
    "plt.ylabel(\"Petal Width\")\n",
    "plt.legend()"
   ]
  },
  {
   "cell_type": "code",
   "execution_count": 19,
   "id": "cc28ca0e",
   "metadata": {
    "execution": {
     "iopub.execute_input": "2023-09-09T12:49:43.317547Z",
     "iopub.status.busy": "2023-09-09T12:49:43.316759Z",
     "iopub.status.idle": "2023-09-09T12:49:43.699757Z",
     "shell.execute_reply": "2023-09-09T12:49:43.698430Z"
    },
    "papermill": {
     "duration": 0.412706,
     "end_time": "2023-09-09T12:49:43.702686",
     "exception": false,
     "start_time": "2023-09-09T12:49:43.289980",
     "status": "completed"
    },
    "tags": []
   },
   "outputs": [
    {
     "data": {
      "text/plain": [
       "<matplotlib.legend.Legend at 0x7de6807d0850>"
      ]
     },
     "execution_count": 19,
     "metadata": {},
     "output_type": "execute_result"
    },
    {
     "data": {
      "image/png": "[encoded data removed]",
      "text/plain": [
       "<Figure size 640x480 with 1 Axes>"
      ]
     },
     "metadata": {},
     "output_type": "display_data"
    }
   ],
   "source": [
    "# Scatter plot for Petal Length vs Sepal Length\n",
    "for i in range(3):\n",
    "    x = df[df['Species'] == species[i]]\n",
    "    plt.scatter(x['SepalLengthCm'], x['PetalLengthCm'], c = colors[i], label=species[i])\n",
    "plt.xlabel(\"Sepal Length\")\n",
    "plt.ylabel(\"Petal Length\")\n",
    "plt.legend()"
   ]
  },
  {
   "cell_type": "code",
   "execution_count": 20,
   "id": "49209b51",
   "metadata": {
    "execution": {
     "iopub.execute_input": "2023-09-09T12:49:43.746656Z",
     "iopub.status.busy": "2023-09-09T12:49:43.746202Z",
     "iopub.status.idle": "2023-09-09T12:49:44.103847Z",
     "shell.execute_reply": "2023-09-09T12:49:44.102816Z"
    },
    "papermill": {
     "duration": 0.382682,
     "end_time": "2023-09-09T12:49:44.106479",
     "exception": false,
     "start_time": "2023-09-09T12:49:43.723797",
     "status": "completed"
    },
    "tags": []
   },
   "outputs": [
    {
     "data": {
      "text/plain": [
       "<matplotlib.legend.Legend at 0x7de6805e98d0>"
      ]
     },
     "execution_count": 20,
     "metadata": {},
     "output_type": "execute_result"
    },
    {
     "data": {
      "image/png": "[encoded data removed]",
      "text/plain": [
       "<Figure size 640x480 with 1 Axes>"
      ]
     },
     "metadata": {},
     "output_type": "display_data"
    }
   ],
   "source": [
    "# Scatter plot for Sepal Width vs Petal Width\n",
    "for i in range(3):\n",
    "    x = df[df['Species'] == species[i]]\n",
    "    plt.scatter(x['SepalWidthCm'], x['PetalWidthCm'], c = colors[i], label=species[i])\n",
    "plt.xlabel(\"Sepal Width\")\n",
    "plt.ylabel(\"Petal Width\")\n",
    "plt.legend()"
   ]
  },
  {
   "cell_type": "markdown",
   "id": "1c7c7bf8",
   "metadata": {
    "papermill": {
     "duration": 0.022028,
     "end_time": "2023-09-09T12:49:44.150653",
     "exception": false,
     "start_time": "2023-09-09T12:49:44.128625",
     "status": "completed"
    },
    "tags": []
   },
   "source": [
    "## Correlation Matrix"
   ]
  },
  {
   "cell_type": "markdown",
   "id": "7c9cb1fa",
   "metadata": {
    "papermill": {
     "duration": 0.021419,
     "end_time": "2023-09-09T12:49:44.193726",
     "exception": false,
     "start_time": "2023-09-09T12:49:44.172307",
     "status": "completed"
    },
    "tags": []
   },
   "source": [
    "A correlation matrix is a table showing correlation coefficients between variables. Each cell in the table shows the correlation between two variables. The value is in the range of -1 to 1. If two varibles have high correlation, we can neglect one variable from those two."
   ]
  },
  {
   "cell_type": "code",
   "execution_count": 21,
   "id": "87b82d66",
   "metadata": {
    "execution": {
     "iopub.execute_input": "2023-09-09T12:49:44.239432Z",
     "iopub.status.busy": "2023-09-09T12:49:44.239008Z",
     "iopub.status.idle": "2023-09-09T12:49:44.255962Z",
     "shell.execute_reply": "2023-09-09T12:49:44.254471Z"
    },
    "papermill": {
     "duration": 0.043364,
     "end_time": "2023-09-09T12:49:44.258992",
     "exception": false,
     "start_time": "2023-09-09T12:49:44.215628",
     "status": "completed"
    },
    "tags": []
   },
   "outputs": [
    {
     "data": {
      "text/html": [
       "<div>\n",
       "<style scoped>\n",
       "    .dataframe tbody tr th:only-of-type {\n",
       "        vertical-align: middle;\n",
       "    }\n",
       "\n",
       "    .dataframe tbody tr th {\n",
       "        vertical-align: top;\n",
       "    }\n",
       "\n",
       "    .dataframe thead th {\n",
       "        text-align: right;\n",
       "    }\n",
       "</style>\n",
       "<table border=\"1\" class=\"dataframe\">\n",
       "  <thead>\n",
       "    <tr style=\"text-align: right;\">\n",
       "      <th></th>\n",
       "      <th>SepalLengthCm</th>\n",
       "      <th>SepalWidthCm</th>\n",
       "      <th>PetalLengthCm</th>\n",
       "      <th>PetalWidthCm</th>\n",
       "      <th>Species</th>\n",
       "    </tr>\n",
       "  </thead>\n",
       "  <tbody>\n",
       "    <tr>\n",
       "      <th>SepalLengthCm</th>\n",
       "      <td>1.000000</td>\n",
       "      <td>-0.109369</td>\n",
       "      <td>0.871754</td>\n",
       "      <td>0.817954</td>\n",
       "      <td>0.782561</td>\n",
       "    </tr>\n",
       "    <tr>\n",
       "      <th>SepalWidthCm</th>\n",
       "      <td>-0.109369</td>\n",
       "      <td>1.000000</td>\n",
       "      <td>-0.420516</td>\n",
       "      <td>-0.356544</td>\n",
       "      <td>-0.419446</td>\n",
       "    </tr>\n",
       "    <tr>\n",
       "      <th>PetalLengthCm</th>\n",
       "      <td>0.871754</td>\n",
       "      <td>-0.420516</td>\n",
       "      <td>1.000000</td>\n",
       "      <td>0.962757</td>\n",
       "      <td>0.949043</td>\n",
       "    </tr>\n",
       "    <tr>\n",
       "      <th>PetalWidthCm</th>\n",
       "      <td>0.817954</td>\n",
       "      <td>-0.356544</td>\n",
       "      <td>0.962757</td>\n",
       "      <td>1.000000</td>\n",
       "      <td>0.956464</td>\n",
       "    </tr>\n",
       "    <tr>\n",
       "      <th>Species</th>\n",
       "      <td>0.782561</td>\n",
       "      <td>-0.419446</td>\n",
       "      <td>0.949043</td>\n",
       "      <td>0.956464</td>\n",
       "      <td>1.000000</td>\n",
       "    </tr>\n",
       "  </tbody>\n",
       "</table>\n",
       "</div>"
      ],
      "text/plain": [
       "               SepalLengthCm  SepalWidthCm  PetalLengthCm  PetalWidthCm  \\\n",
       "SepalLengthCm       1.000000     -0.109369       0.871754      0.817954   \n",
       "SepalWidthCm       -0.109369      1.000000      -0.420516     -0.356544   \n",
       "PetalLengthCm       0.871754     -0.420516       1.000000      0.962757   \n",
       "PetalWidthCm        0.817954     -0.356544       0.962757      1.000000   \n",
       "Species             0.782561     -0.419446       0.949043      0.956464   \n",
       "\n",
       "                Species  \n",
       "SepalLengthCm  0.782561  \n",
       "SepalWidthCm  -0.419446  \n",
       "PetalLengthCm  0.949043  \n",
       "PetalWidthCm   0.956464  \n",
       "Species        1.000000  "
      ]
     },
     "execution_count": 21,
     "metadata": {},
     "output_type": "execute_result"
    }
   ],
   "source": [
    "# Compute the correlation matrix \n",
    "df.corr()"
   ]
  },
  {
   "cell_type": "code",
   "execution_count": 22,
   "id": "2e99db8b",
   "metadata": {
    "execution": {
     "iopub.execute_input": "2023-09-09T12:49:44.305173Z",
     "iopub.status.busy": "2023-09-09T12:49:44.304678Z",
     "iopub.status.idle": "2023-09-09T12:49:44.811826Z",
     "shell.execute_reply": "2023-09-09T12:49:44.810709Z"
    },
    "papermill": {
     "duration": 0.533053,
     "end_time": "2023-09-09T12:49:44.814186",
     "exception": false,
     "start_time": "2023-09-09T12:49:44.281133",
     "status": "completed"
    },
    "tags": []
   },
   "outputs": [
    {
     "data": {
      "text/plain": [
       "<Axes: >"
      ]
     },
     "execution_count": 22,
     "metadata": {},
     "output_type": "execute_result"
    },
    {
     "data": {
      "image/png": "[encoded data removed]",
      "text/plain": [
       "<Figure size 500x400 with 2 Axes>"
      ]
     },
     "metadata": {},
     "output_type": "display_data"
    }
   ],
   "source": [
    "# display the correlation matrix using a heatmap\n",
    "corr = df.corr()\n",
    "fig, ax = plt.subplots(figsize=(5, 4))\n",
    "sns.heatmap(corr, annot=True, ax=ax, cmap='coolwarm')"
   ]
  },
  {
   "cell_type": "markdown",
   "id": "f85abc86",
   "metadata": {
    "papermill": {
     "duration": 0.022719,
     "end_time": "2023-09-09T12:49:44.861102",
     "exception": false,
     "start_time": "2023-09-09T12:49:44.838383",
     "status": "completed"
    },
    "tags": []
   },
   "source": [
    "## Model Training"
   ]
  },
  {
   "cell_type": "code",
   "execution_count": 23,
   "id": "ad18043f",
   "metadata": {
    "execution": {
     "iopub.execute_input": "2023-09-09T12:49:44.909922Z",
     "iopub.status.busy": "2023-09-09T12:49:44.908751Z",
     "iopub.status.idle": "2023-09-09T12:49:45.051510Z",
     "shell.execute_reply": "2023-09-09T12:49:45.050223Z"
    },
    "papermill": {
     "duration": 0.170407,
     "end_time": "2023-09-09T12:49:45.054628",
     "exception": false,
     "start_time": "2023-09-09T12:49:44.884221",
     "status": "completed"
    },
    "tags": []
   },
   "outputs": [],
   "source": [
    "# Split the dataset into training and testing sets\n",
    "from sklearn.model_selection import train_test_split\n",
    "X = df.drop(columns=['Species'])\n",
    "Y = df['Species']\n",
    "x_train, x_test, y_train, y_test = train_test_split(X, Y, test_size=0.40)"
   ]
  },
  {
   "cell_type": "code",
   "execution_count": 24,
   "id": "e1bfdbf0",
   "metadata": {
    "execution": {
     "iopub.execute_input": "2023-09-09T12:49:45.102982Z",
     "iopub.status.busy": "2023-09-09T12:49:45.102606Z",
     "iopub.status.idle": "2023-09-09T12:49:45.249945Z",
     "shell.execute_reply": "2023-09-09T12:49:45.248173Z"
    },
    "papermill": {
     "duration": 0.174803,
     "end_time": "2023-09-09T12:49:45.252580",
     "exception": false,
     "start_time": "2023-09-09T12:49:45.077777",
     "status": "completed"
    },
    "tags": []
   },
   "outputs": [
    {
     "name": "stdout",
     "output_type": "stream",
     "text": [
      "Accuracy (Logistic Regression):  96.66666666666667\n"
     ]
    }
   ],
   "source": [
    "# Logistic Regression Model\n",
    "from sklearn.linear_model import LogisticRegression\n",
    "model1 = LogisticRegression()\n",
    "model1.fit(x_train, y_train)\n",
    "print(\"Accuracy (Logistic Regression): \", model1.score(x_test, y_test) * 100)"
   ]
  },
  {
   "cell_type": "code",
   "execution_count": 25,
   "id": "46c33e8d",
   "metadata": {
    "execution": {
     "iopub.execute_input": "2023-09-09T12:49:45.301448Z",
     "iopub.status.busy": "2023-09-09T12:49:45.300267Z",
     "iopub.status.idle": "2023-09-09T12:49:45.454291Z",
     "shell.execute_reply": "2023-09-09T12:49:45.452779Z"
    },
    "papermill": {
     "duration": 0.181458,
     "end_time": "2023-09-09T12:49:45.457203",
     "exception": false,
     "start_time": "2023-09-09T12:49:45.275745",
     "status": "completed"
    },
    "tags": []
   },
   "outputs": [
    {
     "name": "stdout",
     "output_type": "stream",
     "text": [
      "Accuracy (KNN):  96.66666666666667\n"
     ]
    }
   ],
   "source": [
    "# K-nearest Neighbours Model (KNN)\n",
    "from sklearn.neighbors import KNeighborsClassifier\n",
    "model2 = KNeighborsClassifier()\n",
    "model2.fit(x_train, y_train)\n",
    "print(\"Accuracy (KNN): \", model2.score(x_test, y_test) * 100)"
   ]
  },
  {
   "cell_type": "code",
   "execution_count": 26,
   "id": "1d1a0dd3",
   "metadata": {
    "execution": {
     "iopub.execute_input": "2023-09-09T12:49:45.506154Z",
     "iopub.status.busy": "2023-09-09T12:49:45.505710Z",
     "iopub.status.idle": "2023-09-09T12:49:45.567556Z",
     "shell.execute_reply": "2023-09-09T12:49:45.566337Z"
    },
    "papermill": {
     "duration": 0.089706,
     "end_time": "2023-09-09T12:49:45.570611",
     "exception": false,
     "start_time": "2023-09-09T12:49:45.480905",
     "status": "completed"
    },
    "tags": []
   },
   "outputs": [
    {
     "name": "stdout",
     "output_type": "stream",
     "text": [
      "Accuracy (Decision Tree):  96.66666666666667\n"
     ]
    }
   ],
   "source": [
    "# Decision Tree Model\n",
    "from sklearn.tree import DecisionTreeClassifier\n",
    "model3 = DecisionTreeClassifier()\n",
    "model3.fit(x_train, y_train)\n",
    "print(\"Accuracy (Decision Tree): \", model3.score(x_test, y_test) * 100)"
   ]
  },
  {
   "cell_type": "markdown",
   "id": "26323aee",
   "metadata": {
    "papermill": {
     "duration": 0.023754,
     "end_time": "2023-09-09T12:49:45.618002",
     "exception": false,
     "start_time": "2023-09-09T12:49:45.594248",
     "status": "completed"
    },
    "tags": []
   },
   "source": [
    "## Confusion Matrix"
   ]
  },
  {
   "cell_type": "code",
   "execution_count": 27,
   "id": "056affb6",
   "metadata": {
    "execution": {
     "iopub.execute_input": "2023-09-09T12:49:45.666657Z",
     "iopub.status.busy": "2023-09-09T12:49:45.666229Z",
     "iopub.status.idle": "2023-09-09T12:49:45.671078Z",
     "shell.execute_reply": "2023-09-09T12:49:45.670192Z"
    },
    "papermill": {
     "duration": 0.031576,
     "end_time": "2023-09-09T12:49:45.673308",
     "exception": false,
     "start_time": "2023-09-09T12:49:45.641732",
     "status": "completed"
    },
    "tags": []
   },
   "outputs": [],
   "source": [
    "from sklearn.metrics import confusion_matrix"
   ]
  },
  {
   "cell_type": "code",
   "execution_count": 28,
   "id": "361c2ead",
   "metadata": {
    "execution": {
     "iopub.execute_input": "2023-09-09T12:49:45.722341Z",
     "iopub.status.busy": "2023-09-09T12:49:45.721877Z",
     "iopub.status.idle": "2023-09-09T12:49:45.746409Z",
     "shell.execute_reply": "2023-09-09T12:49:45.744922Z"
    },
    "papermill": {
     "duration": 0.051954,
     "end_time": "2023-09-09T12:49:45.749257",
     "exception": false,
     "start_time": "2023-09-09T12:49:45.697303",
     "status": "completed"
    },
    "tags": []
   },
   "outputs": [],
   "source": [
    "y_pred1 = model1.predict(x_test)\n",
    "y_pred2 = model2.predict(x_test)\n",
    "y_pred3 = model3.predict(x_test)"
   ]
  },
  {
   "cell_type": "code",
   "execution_count": 29,
   "id": "c8d6d93c",
   "metadata": {
    "execution": {
     "iopub.execute_input": "2023-09-09T12:49:45.800590Z",
     "iopub.status.busy": "2023-09-09T12:49:45.800145Z",
     "iopub.status.idle": "2023-09-09T12:49:45.810792Z",
     "shell.execute_reply": "2023-09-09T12:49:45.809423Z"
    },
    "papermill": {
     "duration": 0.04054,
     "end_time": "2023-09-09T12:49:45.813514",
     "exception": false,
     "start_time": "2023-09-09T12:49:45.772974",
     "status": "completed"
    },
    "tags": []
   },
   "outputs": [],
   "source": [
    "conf_matrix1 = confusion_matrix(y_test, y_pred1)\n",
    "conf_matrix2 = confusion_matrix(y_test, y_pred2)\n",
    "conf_matrix3 = confusion_matrix(y_test, y_pred3)"
   ]
  },
  {
   "cell_type": "code",
   "execution_count": 30,
   "id": "83e5599c",
   "metadata": {
    "execution": {
     "iopub.execute_input": "2023-09-09T12:49:45.862330Z",
     "iopub.status.busy": "2023-09-09T12:49:45.861887Z",
     "iopub.status.idle": "2023-09-09T12:49:46.169528Z",
     "shell.execute_reply": "2023-09-09T12:49:46.168271Z"
    },
    "papermill": {
     "duration": 0.335383,
     "end_time": "2023-09-09T12:49:46.172386",
     "exception": false,
     "start_time": "2023-09-09T12:49:45.837003",
     "status": "completed"
    },
    "tags": []
   },
   "outputs": [
    {
     "data": {
      "image/png": "[encoded data removed]",
      "text/plain": [
       "<Figure size 800x600 with 2 Axes>"
      ]
     },
     "metadata": {},
     "output_type": "display_data"
    }
   ],
   "source": [
    "plt.figure(figsize=(8, 6))\n",
    "sns.heatmap(conf_matrix1, annot=True, fmt='d', cmap='Blues', xticklabels=np.unique(Y), yticklabels=np.unique(Y))\n",
    "plt.xlabel('Predicted Label')\n",
    "plt.ylabel('True Label')\n",
    "plt.title('Confusion Matrix of Logistic Regression')\n",
    "plt.show()"
   ]
  },
  {
   "cell_type": "code",
   "execution_count": 31,
   "id": "d47d8136",
   "metadata": {
    "execution": {
     "iopub.execute_input": "2023-09-09T12:49:46.221814Z",
     "iopub.status.busy": "2023-09-09T12:49:46.221397Z",
     "iopub.status.idle": "2023-09-09T12:49:46.525364Z",
     "shell.execute_reply": "2023-09-09T12:49:46.524174Z"
    },
    "papermill": {
     "duration": 0.33224,
     "end_time": "2023-09-09T12:49:46.528461",
     "exception": false,
     "start_time": "2023-09-09T12:49:46.196221",
     "status": "completed"
    },
    "tags": []
   },
   "outputs": [
    {
     "data": {
      "image/png": "[encoded data removed]",
      "text/plain": [
       "<Figure size 800x600 with 2 Axes>"
      ]
     },
     "metadata": {},
     "output_type": "display_data"
    }
   ],
   "source": [
    "plt.figure(figsize=(8, 6))\n",
    "sns.heatmap(conf_matrix2, annot=True, fmt='d', cmap='Blues', xticklabels=np.unique(Y), yticklabels=np.unique(Y))\n",
    "plt.xlabel('Predicted Label')\n",
    "plt.ylabel('True Label')\n",
    "plt.title('Confusion Matrix of KNN')\n",
    "plt.show()"
   ]
  },
  {
   "cell_type": "code",
   "execution_count": 32,
   "id": "7ee33d09",
   "metadata": {
    "execution": {
     "iopub.execute_input": "2023-09-09T12:49:46.579947Z",
     "iopub.status.busy": "2023-09-09T12:49:46.579544Z",
     "iopub.status.idle": "2023-09-09T12:49:46.873407Z",
     "shell.execute_reply": "2023-09-09T12:49:46.872022Z"
    },
    "papermill": {
     "duration": 0.322777,
     "end_time": "2023-09-09T12:49:46.876563",
     "exception": false,
     "start_time": "2023-09-09T12:49:46.553786",
     "status": "completed"
    },
    "tags": []
   },
   "outputs": [
    {
     "data": {
      "image/png": "[encoded data removed]",
      "text/plain": [
       "<Figure size 800x600 with 2 Axes>"
      ]
     },
     "metadata": {},
     "output_type": "display_data"
    }
   ],
   "source": [
    "plt.figure(figsize=(8, 6))\n",
    "sns.heatmap(conf_matrix3, annot=True, fmt='d', cmap='Blues', xticklabels=np.unique(Y), yticklabels=np.unique(Y))\n",
    "plt.xlabel('Predicted Label')\n",
    "plt.ylabel('True Label')\n",
    "plt.title('Confusion Matrix of Decision Tree')\n",
    "plt.show()\n"
   ]
  },
  {
   "cell_type": "code",
   "execution_count": null,
   "id": "bd0fd875",
   "metadata": {
    "papermill": {
     "duration": 0.024276,
     "end_time": "2023-09-09T12:49:46.926870",
     "exception": false,
     "start_time": "2023-09-09T12:49:46.902594",
     "status": "completed"
    },
    "tags": []
   },
   "outputs": [],
   "source": []
  }
 ],
 "kernelspec": {
  "display_name": "Python 3",
  "language": "python",
  "name": "python3"
 },
 "language_info": {
  "codemirror_mode": {
   "name": "ipython",
   "version": 3
  },
  "file_extension": ".py",
  "mimetype": "text/x-python",
  "name": "python",
  "nbconvert_exporter": "python",
  "pygments_lexer": "ipython3",
  "version": "3.6.4"
 },
 "metadata": {
  "kernelspec": {
   "display_name": "Python 3",
   "language": "python",
   "name": "python3"
  },
  "language_info": {
   "codemirror_mode": {
    "name": "ipython",
    "version": 3
   },
   "file_extension": ".py",
   "mimetype": "text/x-python",
   "name": "python",
   "nbconvert_exporter": "python",
   "pygments_lexer": "ipython3",
   "version": "3.10.12"
  },
  "papermill": {
   "default_parameters": {},
   "duration": 14.419925,
   "end_time": "2023-09-09T12:49:47.674665",
   "environment_variables": {},
   "exception": null,
   "input_path": "__notebook__.ipynb",
   "output_path": "__notebook__.ipynb",
   "parameters": {},
   "start_time": "2023-09-09T12:49:33.254740",
   "version": "2.4.0"
  }
 },
 "nbformat": 4,
 "nbformat_minor": 5
}
